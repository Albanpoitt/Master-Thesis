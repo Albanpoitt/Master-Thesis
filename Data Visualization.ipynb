{
 "cells": [
  {
   "cell_type": "markdown",
   "metadata": {},
   "source": [
    "The data used in our study can be found on Jessen, Kelly and Pedersen's GitHub repository <br>\n",
    "Link: https://github.com/bkelly-lab/ReplicationCrisis/tree/master/GlobalFactors"
   ]
  },
  {
   "cell_type": "markdown",
   "metadata": {},
   "source": [
    "## First Look at the data"
   ]
  },
  {
   "cell_type": "code",
   "execution_count": 2,
   "metadata": {},
   "outputs": [],
   "source": [
    "#Import\n",
    "import pandas as pd\n",
    "import numpy as np\n",
    "\n",
    "from scipy import stats\n",
    "from datetime import datetime, timedelta\n",
    "\n",
    "import seaborn as sns\n",
    "import matplotlib.pyplot as plt"
   ]
  },
  {
   "cell_type": "markdown",
   "metadata": {},
   "source": [
    "### Factor description\n",
    "- abr_hxz: Abreviation used to name the characteristics from Hou, Xue, and Zhand (2020)\n",
    "- abr_jkp: Abreviation used to name the characteristics from Jessen, Kelly and Perdersen"
   ]
  },
  {
   "cell_type": "code",
   "execution_count": 3,
   "metadata": {},
   "outputs": [
    {
     "data": {
      "text/html": [
       "<div>\n",
       "<style scoped>\n",
       "    .dataframe tbody tr th:only-of-type {\n",
       "        vertical-align: middle;\n",
       "    }\n",
       "\n",
       "    .dataframe tbody tr th {\n",
       "        vertical-align: top;\n",
       "    }\n",
       "\n",
       "    .dataframe thead th {\n",
       "        text-align: right;\n",
       "    }\n",
       "</style>\n",
       "<table border=\"1\" class=\"dataframe\">\n",
       "  <thead>\n",
       "    <tr style=\"text-align: right;\">\n",
       "      <th></th>\n",
       "      <th>abr_hxz</th>\n",
       "      <th>name</th>\n",
       "      <th>name_new</th>\n",
       "      <th>abr_jkp</th>\n",
       "      <th>time_to_create</th>\n",
       "      <th>lagged_denom</th>\n",
       "      <th>cite</th>\n",
       "      <th>variations</th>\n",
       "      <th>group</th>\n",
       "      <th>in-sample period</th>\n",
       "      <th>t-stat</th>\n",
       "      <th>p-value</th>\n",
       "      <th>direction</th>\n",
       "      <th>significance</th>\n",
       "      <th>controls</th>\n",
       "    </tr>\n",
       "  </thead>\n",
       "  <tbody>\n",
       "    <tr>\n",
       "      <th>0</th>\n",
       "      <td>Sue</td>\n",
       "      <td>Earnings surprise</td>\n",
       "      <td>Standardized earnings surprise</td>\n",
       "      <td>niq_su</td>\n",
       "      <td>NaN</td>\n",
       "      <td>NaN</td>\n",
       "      <td>Foster Olsen and Shevlin (1984)</td>\n",
       "      <td>3.0</td>\n",
       "      <td>Momentum</td>\n",
       "      <td>1974 - 1981</td>\n",
       "      <td>9.11</td>\n",
       "      <td>NaN</td>\n",
       "      <td>1.0</td>\n",
       "      <td>1.0</td>\n",
       "      <td>2.0</td>\n",
       "    </tr>\n",
       "    <tr>\n",
       "      <th>1</th>\n",
       "      <td>Abr</td>\n",
       "      <td>Cumulative abnormal stock returns around earni...</td>\n",
       "      <td>Cumulative abnormal stock returns around earni...</td>\n",
       "      <td>NaN</td>\n",
       "      <td>3</td>\n",
       "      <td>NaN</td>\n",
       "      <td>Chan Jegadeesh and Lakonishok (1996) 1972/1</td>\n",
       "      <td>3.0</td>\n",
       "      <td>Momentum</td>\n",
       "      <td>1977 - 1993</td>\n",
       "      <td>4.25</td>\n",
       "      <td>NaN</td>\n",
       "      <td>1.0</td>\n",
       "      <td>NaN</td>\n",
       "      <td>2.0</td>\n",
       "    </tr>\n",
       "  </tbody>\n",
       "</table>\n",
       "</div>"
      ],
      "text/plain": [
       "  abr_hxz                                               name  \\\n",
       "0     Sue                                  Earnings surprise   \n",
       "1     Abr  Cumulative abnormal stock returns around earni...   \n",
       "\n",
       "                                            name_new abr_jkp time_to_create  \\\n",
       "0                     Standardized earnings surprise  niq_su            NaN   \n",
       "1  Cumulative abnormal stock returns around earni...     NaN              3   \n",
       "\n",
       "   lagged_denom                                         cite  variations  \\\n",
       "0           NaN              Foster Olsen and Shevlin (1984)         3.0   \n",
       "1           NaN  Chan Jegadeesh and Lakonishok (1996) 1972/1         3.0   \n",
       "\n",
       "      group in-sample period t-stat p-value  direction  significance  controls  \n",
       "0  Momentum      1974 - 1981   9.11     NaN        1.0           1.0       2.0  \n",
       "1  Momentum      1977 - 1993   4.25     NaN        1.0           NaN       2.0  "
      ]
     },
     "execution_count": 3,
     "metadata": {},
     "output_type": "execute_result"
    }
   ],
   "source": [
    "#Download & Display\n",
    "desc_factor = pd.read_excel(r\"C:\\EDHEC\\M2\\Cours\\Master thesis\\Data\\Git_Jessen\\Factor Details.xlsx\")\n",
    "desc_factor.head(2)"
   ]
  },
  {
   "cell_type": "markdown",
   "metadata": {},
   "source": [
    "### Cluster defined by JKP"
   ]
  },
  {
   "cell_type": "code",
   "execution_count": 5,
   "metadata": {},
   "outputs": [
    {
     "name": "stdout",
     "output_type": "stream",
     "text": [
      "Number of clusters: 13\n"
     ]
    },
    {
     "data": {
      "text/html": [
       "<div>\n",
       "<style scoped>\n",
       "    .dataframe tbody tr th:only-of-type {\n",
       "        vertical-align: middle;\n",
       "    }\n",
       "\n",
       "    .dataframe tbody tr th {\n",
       "        vertical-align: top;\n",
       "    }\n",
       "\n",
       "    .dataframe thead th {\n",
       "        text-align: right;\n",
       "    }\n",
       "</style>\n",
       "<table border=\"1\" class=\"dataframe\">\n",
       "  <thead>\n",
       "    <tr style=\"text-align: right;\">\n",
       "      <th></th>\n",
       "      <th>characteristic</th>\n",
       "      <th>cluster</th>\n",
       "    </tr>\n",
       "  </thead>\n",
       "  <tbody>\n",
       "    <tr>\n",
       "      <th>0</th>\n",
       "      <td>age</td>\n",
       "      <td>Low Leverage</td>\n",
       "    </tr>\n",
       "    <tr>\n",
       "      <th>1</th>\n",
       "      <td>aliq_at</td>\n",
       "      <td>Investment</td>\n",
       "    </tr>\n",
       "    <tr>\n",
       "      <th>2</th>\n",
       "      <td>aliq_mat</td>\n",
       "      <td>Low Leverage</td>\n",
       "    </tr>\n",
       "    <tr>\n",
       "      <th>3</th>\n",
       "      <td>ami_126d</td>\n",
       "      <td>Size</td>\n",
       "    </tr>\n",
       "    <tr>\n",
       "      <th>4</th>\n",
       "      <td>at_be</td>\n",
       "      <td>Low Leverage</td>\n",
       "    </tr>\n",
       "  </tbody>\n",
       "</table>\n",
       "</div>"
      ],
      "text/plain": [
       "  characteristic       cluster\n",
       "0            age  Low Leverage\n",
       "1        aliq_at    Investment\n",
       "2       aliq_mat  Low Leverage\n",
       "3       ami_126d          Size\n",
       "4          at_be  Low Leverage"
      ]
     },
     "execution_count": 5,
     "metadata": {},
     "output_type": "execute_result"
    }
   ],
   "source": [
    "#Download the cluster associated to each of the 153 characteristics\n",
    "cluster = pd.read_csv(r\"C:\\EDHEC\\M2\\Cours\\Master thesis\\Data\\Git_Jessen\\Cluster Labels.csv\")\n",
    "print(\"Number of clusters:\", len(cluster.cluster.unique()))\n",
    "cluster.head()"
   ]
  },
  {
   "cell_type": "raw",
   "metadata": {},
   "source": [
    "#Un-comment if needed\n",
    "\"\"\"\n",
    "This cell allow you to create a dataframe with: the abreviation of the characteristic, the full name of the characteristic and the cluster associated to the characteristic.\n",
    "\"\"\"\n",
    "a = desc_factor[[\"name_new\", \"abr_jkp\"]]\n",
    "a.columns = [\"name\", \"characteristic\"]\n",
    "merged_df = cluster.merge(a, on=\"characteristic\", how = \"left\")\n",
    "merged_df.to_excel(\"./cluster.xlsx\")"
   ]
  },
  {
   "cell_type": "markdown",
   "metadata": {},
   "source": [
    "### Visualization of year of discovery\n",
    "Generating a bar plot to visually depict the distribution of discovery years for the characteristics in our dataset. (*Figure 1 in the research paper*)"
   ]
  },
  {
   "cell_type": "code",
   "execution_count": 7,
   "metadata": {},
   "outputs": [
    {
     "data": {
      "image/png": "[encoded data removed]",
      "text/plain": [
       "<Figure size 1296x432 with 1 Axes>"
      ]
     },
     "metadata": {
      "needs_background": "light"
     },
     "output_type": "display_data"
    }
   ],
   "source": [
    "#Distribution of Discovery date\n",
    "temp_factor = desc_factor[desc_factor[\"abr_jkp\"].isin(cluster[\"characteristic\"])]\n",
    "y = [int(str(x).split(\"-\")[-1]) for x in temp_factor[\"in-sample period\"].values.tolist()]\n",
    "y_df = pd.DataFrame(pd.DataFrame(y).value_counts())\n",
    "y_df.columns = [\"count\"]\n",
    "y_df = y_df.reset_index()\n",
    "y_df.columns = [\"year\", \"count\"]\n",
    "y_df.sort_values(\"year\", ascending=True, inplace=True)\n",
    "\n",
    "#Visualization\n",
    "fig, ax = plt.subplots(figsize=(18, 6))\n",
    "ax.set_title(\"Year of discovery of the characteristics\", fontsize = 18)\n",
    "sns.barplot(x=\"year\", y=\"count\", data=y_df,\n",
    "            label=\"cluster\", palette=\"Blues_d\")\n",
    "\n",
    "#Set axis\n",
    "ax.set_ylabel(\"Number of characteristics\", fontsize = 14)\n",
    "ax.set_xlabel(\"Year of discovery\", fontsize = 14)\n",
    "ax.set_yticks(np.arange(0,22,2))\n",
    "ax.tick_params(axis='x', labelsize=10)\n",
    "ax.tick_params(axis='y', labelsize=12);"
   ]
  },
  {
   "cell_type": "code",
   "execution_count": 8,
   "metadata": {},
   "outputs": [
    {
     "name": "stdout",
     "output_type": "stream",
     "text": [
      "Mean Year of Discovery:  2000\n",
      "Meadian Year of Disovery:  2001\n"
     ]
    }
   ],
   "source": [
    "#Mean of Discovery\n",
    "print(\"Mean Year of Discovery: \", int(pd.DataFrame(y).mean().values[0]))\n",
    "#Median of Discovery\n",
    "print(\"Meadian Year of Disovery: \", int(pd.DataFrame(y).median().values[0]))"
   ]
  },
  {
   "cell_type": "markdown",
   "metadata": {},
   "source": [
    "### In-Sample Length Period\n",
    "Generating a bar plot to visually depict the distribution of the in-sample period length for the characteristics in our dataset."
   ]
  },
  {
   "cell_type": "code",
   "execution_count": 9,
   "metadata": {},
   "outputs": [
    {
     "data": {
      "image/png": "[encoded data removed]",
      "text/plain": [
       "<Figure size 1296x432 with 1 Axes>"
      ]
     },
     "metadata": {
      "needs_background": "light"
     },
     "output_type": "display_data"
    }
   ],
   "source": [
    "#In-sample period length\n",
    "start = [(int(str(x).split(\"-\")[0])) for x in temp_factor[\"in-sample period\"].values.tolist()]\n",
    "end = [(int(str(x).split(\"-\")[-1])) for x in temp_factor[\"in-sample period\"].values.tolist()]\n",
    "\n",
    "#Adjust starting period to have dates after 1960\n",
    "p = pd.DataFrame({\"start\": start, \"end\":end})\n",
    "p.loc[p[\"start\"]<1960, \"start\"] = 1960\n",
    "\n",
    "y_df = pd.DataFrame(pd.DataFrame(p[\"end\"]-p[\"start\"]).value_counts())\n",
    "y_df.columns = [\"count\"]\n",
    "y_df = y_df.reset_index()\n",
    "y_df.columns = [\"length\", \"count\"]\n",
    "y_df.sort_values(\"length\", ascending=True, inplace=True)\n",
    "\n",
    "#Visualization\n",
    "fig, ax = plt.subplots(figsize=(18, 6))\n",
    "ax.set_title(\"Length of the In-Sample period\")\n",
    "ax = sns.barplot(x=\"length\", y=\"count\", data=y_df,\n",
    "            label=\"cluster\", palette=\"Blues_d\")\n",
    "ax.set(xlabel='Length in years', ylabel='Number of characteristics');"
   ]
  },
  {
   "cell_type": "code",
   "execution_count": 10,
   "metadata": {},
   "outputs": [
    {
     "name": "stdout",
     "output_type": "stream",
     "text": [
      "--------------------\n",
      "In-Sample\n",
      "Mean length: 30\n",
      "Median length: 29\n",
      "--------------------\n"
     ]
    }
   ],
   "source": [
    "print(\"-----\"*4)\n",
    "print(\"In-Sample\")\n",
    "print(\"Mean length:\", int(y_df[\"length\"].mean()))\n",
    "print(\"Median length:\", int(y_df[\"length\"].median()))\n",
    "print(\"-----\"*4)"
   ]
  },
  {
   "cell_type": "markdown",
   "metadata": {},
   "source": [
    "### Out-Saple Length\n",
    "Generating a bar plot to visually depict the distribution of the out-sample period length for the characteristics in our dataset."
   ]
  },
  {
   "cell_type": "code",
   "execution_count": 11,
   "metadata": {},
   "outputs": [
    {
     "data": {
      "image/png": "[encoded data removed]",
      "text/plain": [
       "<Figure size 1296x432 with 1 Axes>"
      ]
     },
     "metadata": {
      "needs_background": "light"
     },
     "output_type": "display_data"
    }
   ],
   "source": [
    "#In-sample period length\n",
    "start = [(int(str(x).split(\"-\")[1])) for x in temp_factor[\"in-sample period\"].values.tolist()]\n",
    "end = 2020\n",
    "#Adjust starting period to have dates after 1960\n",
    "p = pd.DataFrame({\"start\": start, \"end\":end})\n",
    "p.loc[p[\"start\"]<1960, \"start\"] = 1960\n",
    "\n",
    "y_df = pd.DataFrame(pd.DataFrame(p[\"end\"]-p[\"start\"]).value_counts())\n",
    "y_df.columns = [\"count\"]\n",
    "y_df = y_df.reset_index()\n",
    "y_df.columns = [\"length\", \"count\"]\n",
    "y_df.sort_values(\"length\", ascending=True, inplace=True)\n",
    "\n",
    "#Visualization\n",
    "fig, ax = plt.subplots(figsize=(18, 6))\n",
    "ax.set_title(\"Length of the Out-Sample period\")\n",
    "ax = sns.barplot(x=\"length\", y=\"count\", data=y_df,\n",
    "            label=\"cluster\", palette=\"Blues_d\")\n",
    "ax.set(xlabel='Length in years', ylabel='Number of characteristics');"
   ]
  },
  {
   "cell_type": "code",
   "execution_count": 12,
   "metadata": {},
   "outputs": [
    {
     "name": "stdout",
     "output_type": "stream",
     "text": [
      "--------------------\n",
      "Out-Sample\n",
      "Mean length: 24\n",
      "Median length: 23\n",
      "--------------------\n"
     ]
    }
   ],
   "source": [
    "print(\"-----\"*4)\n",
    "print(\"Out-Sample\")\n",
    "print(\"Mean length:\", int(y_df[\"length\"].mean()))\n",
    "print(\"Median length:\", int(y_df[\"length\"].median()))\n",
    "print(\"-----\"*4)"
   ]
  },
  {
   "cell_type": "markdown",
   "metadata": {},
   "source": [
    "### Cluster Visualization\n",
    "Creation of a barplot to understand the repartition the characteristics per cluster."
   ]
  },
  {
   "cell_type": "code",
   "execution_count": 13,
   "metadata": {},
   "outputs": [
    {
     "data": {
      "text/plain": [
       "<AxesSubplot:title={'center':'Nb of characteristics per cluster'}, xlabel='count', ylabel='cluster'>"
      ]
     },
     "execution_count": 13,
     "metadata": {},
     "output_type": "execute_result"
    },
    {
     "data": {
      "image/png": "[encoded data removed]",
      "text/plain": [
       "<Figure size 720x432 with 1 Axes>"
      ]
     },
     "metadata": {
      "needs_background": "light"
     },
     "output_type": "display_data"
    }
   ],
   "source": [
    "#Visualization\n",
    "type_c = pd.DataFrame(cluster.cluster.value_counts()).reset_index()\n",
    "type_c.columns = [\"cluster\", \"count\"]\n",
    "\n",
    "fig, ax = plt.subplots(figsize=(10, 6))\n",
    "ax.set_title(\"Nb of characteristics per cluster\")\n",
    "sns.barplot(x=\"count\", y=\"cluster\", data=type_c,\n",
    "            label=\"cluster\")"
   ]
  },
  {
   "cell_type": "markdown",
   "metadata": {},
   "source": [
    "### Country Class\n",
    "Table of the countries with their iso code, MSCI development classification and regions"
   ]
  },
  {
   "cell_type": "code",
   "execution_count": 14,
   "metadata": {},
   "outputs": [
    {
     "data": {
      "text/html": [
       "<div>\n",
       "<style scoped>\n",
       "    .dataframe tbody tr th:only-of-type {\n",
       "        vertical-align: middle;\n",
       "    }\n",
       "\n",
       "    .dataframe tbody tr th {\n",
       "        vertical-align: top;\n",
       "    }\n",
       "\n",
       "    .dataframe thead th {\n",
       "        text-align: right;\n",
       "    }\n",
       "</style>\n",
       "<table border=\"1\" class=\"dataframe\">\n",
       "  <thead>\n",
       "    <tr style=\"text-align: right;\">\n",
       "      <th></th>\n",
       "      <th>excntry</th>\n",
       "      <th>msci_development</th>\n",
       "      <th>region</th>\n",
       "    </tr>\n",
       "  </thead>\n",
       "  <tbody>\n",
       "    <tr>\n",
       "      <th>0</th>\n",
       "      <td>USA</td>\n",
       "      <td>developed</td>\n",
       "      <td>north america</td>\n",
       "    </tr>\n",
       "    <tr>\n",
       "      <th>1</th>\n",
       "      <td>CHN</td>\n",
       "      <td>emerging</td>\n",
       "      <td>asia</td>\n",
       "    </tr>\n",
       "    <tr>\n",
       "      <th>2</th>\n",
       "      <td>JPN</td>\n",
       "      <td>developed</td>\n",
       "      <td>asia</td>\n",
       "    </tr>\n",
       "    <tr>\n",
       "      <th>3</th>\n",
       "      <td>HKG</td>\n",
       "      <td>developed</td>\n",
       "      <td>asia</td>\n",
       "    </tr>\n",
       "    <tr>\n",
       "      <th>4</th>\n",
       "      <td>GBR</td>\n",
       "      <td>developed</td>\n",
       "      <td>europe</td>\n",
       "    </tr>\n",
       "  </tbody>\n",
       "</table>\n",
       "</div>"
      ],
      "text/plain": [
       "  excntry msci_development         region\n",
       "0     USA        developed  north america\n",
       "1     CHN         emerging           asia\n",
       "2     JPN        developed           asia\n",
       "3     HKG        developed           asia\n",
       "4     GBR        developed         europe"
      ]
     },
     "execution_count": 14,
     "metadata": {},
     "output_type": "execute_result"
    }
   ],
   "source": [
    "#Download & Display\n",
    "class_country = pd.read_excel(r\"C:\\EDHEC\\M2\\Cours\\Master thesis\\Data\\Git_Jessen\\Country Classification.xlsx\")\n",
    "class_country.head()"
   ]
  },
  {
   "cell_type": "markdown",
   "metadata": {},
   "source": [
    "### Zero cost portfolios\n",
    "Zero-cost / Long-short portfolios. The portfolios are constructed as follows: the country’s stocks are ranked according to their score for a given characteristic (top or bottom percentile), then the zero-cost portfolio is built by going long (short) the top percentile and short (long) the bottom percentile as defined by the paper which first identified the characteristic. These portfolios were then re-balanced on a monthly basis according to characteristic ranking for each country."
   ]
  },
  {
   "cell_type": "code",
   "execution_count": 15,
   "metadata": {},
   "outputs": [
    {
     "data": {
      "text/html": [
       "<div>\n",
       "<style scoped>\n",
       "    .dataframe tbody tr th:only-of-type {\n",
       "        vertical-align: middle;\n",
       "    }\n",
       "\n",
       "    .dataframe tbody tr th {\n",
       "        vertical-align: top;\n",
       "    }\n",
       "\n",
       "    .dataframe thead th {\n",
       "        text-align: right;\n",
       "    }\n",
       "</style>\n",
       "<table border=\"1\" class=\"dataframe\">\n",
       "  <thead>\n",
       "    <tr style=\"text-align: right;\">\n",
       "      <th></th>\n",
       "      <th>excntry</th>\n",
       "      <th>characteristic</th>\n",
       "      <th>eom</th>\n",
       "      <th>signal</th>\n",
       "      <th>n_stocks</th>\n",
       "      <th>n_stocks_min</th>\n",
       "      <th>ret_ew</th>\n",
       "      <th>ret_vw</th>\n",
       "      <th>ret_vw_cap</th>\n",
       "    </tr>\n",
       "  </thead>\n",
       "  <tbody>\n",
       "    <tr>\n",
       "      <th>0</th>\n",
       "      <td>ARE</td>\n",
       "      <td>age</td>\n",
       "      <td>2006-02-28</td>\n",
       "      <td>228.0</td>\n",
       "      <td>56</td>\n",
       "      <td>1</td>\n",
       "      <td>0.132139</td>\n",
       "      <td>0.102877</td>\n",
       "      <td>0.097431</td>\n",
       "    </tr>\n",
       "    <tr>\n",
       "      <th>1</th>\n",
       "      <td>ARE</td>\n",
       "      <td>age</td>\n",
       "      <td>2006-03-31</td>\n",
       "      <td>228.0</td>\n",
       "      <td>57</td>\n",
       "      <td>1</td>\n",
       "      <td>-0.136900</td>\n",
       "      <td>-0.099525</td>\n",
       "      <td>-0.113379</td>\n",
       "    </tr>\n",
       "    <tr>\n",
       "      <th>2</th>\n",
       "      <td>ARE</td>\n",
       "      <td>age</td>\n",
       "      <td>2006-04-30</td>\n",
       "      <td>228.0</td>\n",
       "      <td>58</td>\n",
       "      <td>1</td>\n",
       "      <td>-0.172193</td>\n",
       "      <td>-0.208552</td>\n",
       "      <td>-0.191348</td>\n",
       "    </tr>\n",
       "    <tr>\n",
       "      <th>3</th>\n",
       "      <td>ARE</td>\n",
       "      <td>age</td>\n",
       "      <td>2006-05-31</td>\n",
       "      <td>228.0</td>\n",
       "      <td>62</td>\n",
       "      <td>1</td>\n",
       "      <td>-0.039481</td>\n",
       "      <td>-0.029230</td>\n",
       "      <td>-0.032885</td>\n",
       "    </tr>\n",
       "    <tr>\n",
       "      <th>4</th>\n",
       "      <td>ARE</td>\n",
       "      <td>age</td>\n",
       "      <td>2006-06-30</td>\n",
       "      <td>228.0</td>\n",
       "      <td>59</td>\n",
       "      <td>1</td>\n",
       "      <td>-0.048280</td>\n",
       "      <td>-0.069562</td>\n",
       "      <td>-0.062109</td>\n",
       "    </tr>\n",
       "  </tbody>\n",
       "</table>\n",
       "</div>"
      ],
      "text/plain": [
       "  excntry characteristic         eom  signal  n_stocks  n_stocks_min  \\\n",
       "0     ARE            age  2006-02-28   228.0        56             1   \n",
       "1     ARE            age  2006-03-31   228.0        57             1   \n",
       "2     ARE            age  2006-04-30   228.0        58             1   \n",
       "3     ARE            age  2006-05-31   228.0        62             1   \n",
       "4     ARE            age  2006-06-30   228.0        59             1   \n",
       "\n",
       "     ret_ew    ret_vw  ret_vw_cap  \n",
       "0  0.132139  0.102877    0.097431  \n",
       "1 -0.136900 -0.099525   -0.113379  \n",
       "2 -0.172193 -0.208552   -0.191348  \n",
       "3 -0.039481 -0.029230   -0.032885  \n",
       "4 -0.048280 -0.069562   -0.062109  "
      ]
     },
     "execution_count": 15,
     "metadata": {},
     "output_type": "execute_result"
    }
   ],
   "source": [
    "#Download & Display\n",
    "hml = pd.read_csv(r\"C:\\EDHEC\\M2\\Cours\\Master thesis\\Data\\Git_Jessen\\hml.csv\")\n",
    "hml.head()"
   ]
  },
  {
   "cell_type": "markdown",
   "metadata": {},
   "source": [
    "### Rank-weighted portfolios \n",
    "Rank-weighted (chracteristic managed) portfolios within mega, large, small, micro and nano cap stocks in the US."
   ]
  },
  {
   "cell_type": "code",
   "execution_count": 16,
   "metadata": {},
   "outputs": [
    {
     "data": {
      "text/html": [
       "<div>\n",
       "<style scoped>\n",
       "    .dataframe tbody tr th:only-of-type {\n",
       "        vertical-align: middle;\n",
       "    }\n",
       "\n",
       "    .dataframe tbody tr th {\n",
       "        vertical-align: top;\n",
       "    }\n",
       "\n",
       "    .dataframe thead th {\n",
       "        text-align: right;\n",
       "    }\n",
       "</style>\n",
       "<table border=\"1\" class=\"dataframe\">\n",
       "  <thead>\n",
       "    <tr style=\"text-align: right;\">\n",
       "      <th></th>\n",
       "      <th>excntry</th>\n",
       "      <th>characteristic</th>\n",
       "      <th>size_grp</th>\n",
       "      <th>eom</th>\n",
       "      <th>n_stocks</th>\n",
       "      <th>signal_weighted</th>\n",
       "      <th>ret_weighted</th>\n",
       "    </tr>\n",
       "  </thead>\n",
       "  <tbody>\n",
       "    <tr>\n",
       "      <th>0</th>\n",
       "      <td>USA</td>\n",
       "      <td>age</td>\n",
       "      <td>micro</td>\n",
       "      <td>1986-02-28</td>\n",
       "      <td>2541</td>\n",
       "      <td>242.953127</td>\n",
       "      <td>-0.005127</td>\n",
       "    </tr>\n",
       "    <tr>\n",
       "      <th>1</th>\n",
       "      <td>USA</td>\n",
       "      <td>age</td>\n",
       "      <td>micro</td>\n",
       "      <td>1986-03-31</td>\n",
       "      <td>2548</td>\n",
       "      <td>242.565434</td>\n",
       "      <td>0.004314</td>\n",
       "    </tr>\n",
       "    <tr>\n",
       "      <th>2</th>\n",
       "      <td>USA</td>\n",
       "      <td>age</td>\n",
       "      <td>micro</td>\n",
       "      <td>1986-04-30</td>\n",
       "      <td>2649</td>\n",
       "      <td>239.178874</td>\n",
       "      <td>-0.012937</td>\n",
       "    </tr>\n",
       "    <tr>\n",
       "      <th>3</th>\n",
       "      <td>USA</td>\n",
       "      <td>age</td>\n",
       "      <td>micro</td>\n",
       "      <td>1986-05-31</td>\n",
       "      <td>2533</td>\n",
       "      <td>242.459497</td>\n",
       "      <td>0.002582</td>\n",
       "    </tr>\n",
       "    <tr>\n",
       "      <th>4</th>\n",
       "      <td>USA</td>\n",
       "      <td>age</td>\n",
       "      <td>nano</td>\n",
       "      <td>1986-06-30</td>\n",
       "      <td>1553</td>\n",
       "      <td>169.803020</td>\n",
       "      <td>0.023702</td>\n",
       "    </tr>\n",
       "  </tbody>\n",
       "</table>\n",
       "</div>"
      ],
      "text/plain": [
       "  excntry characteristic size_grp         eom  n_stocks  signal_weighted  \\\n",
       "0     USA            age    micro  1986-02-28      2541       242.953127   \n",
       "1     USA            age    micro  1986-03-31      2548       242.565434   \n",
       "2     USA            age    micro  1986-04-30      2649       239.178874   \n",
       "3     USA            age    micro  1986-05-31      2533       242.459497   \n",
       "4     USA            age     nano  1986-06-30      1553       169.803020   \n",
       "\n",
       "   ret_weighted  \n",
       "0     -0.005127  \n",
       "1      0.004314  \n",
       "2     -0.012937  \n",
       "3      0.002582  \n",
       "4      0.023702  "
      ]
     },
     "execution_count": 16,
     "metadata": {},
     "output_type": "execute_result"
    }
   ],
   "source": [
    "#Download & Display\n",
    "cmp = pd.read_csv(r\"C:\\EDHEC\\M2\\Cours\\Master thesis\\Data\\Git_Jessen\\cmp.csv\")\n",
    "cmp.head()"
   ]
  },
  {
   "cell_type": "markdown",
   "metadata": {},
   "source": [
    "### Country by country\n",
    "Let's look first at the US using the *Country Factor* folder from Jessen and Kelly. The folder is made of lms.csv in country-by-country files. \n",
    "- lms.csv: Long/short portfolios based on hml.csv but with the signing convention used in Jensen, Kelly and Pedersen (2022). In particular, they sign factors so they are consistent with the literature. For example, they go long low asset growth stocks and short high asset growth stocks, because the literature generally finds that low asset growth stocks outperform."
   ]
  },
  {
   "cell_type": "code",
   "execution_count": 17,
   "metadata": {},
   "outputs": [
    {
     "data": {
      "text/html": [
       "<div>\n",
       "<style scoped>\n",
       "    .dataframe tbody tr th:only-of-type {\n",
       "        vertical-align: middle;\n",
       "    }\n",
       "\n",
       "    .dataframe tbody tr th {\n",
       "        vertical-align: top;\n",
       "    }\n",
       "\n",
       "    .dataframe thead th {\n",
       "        text-align: right;\n",
       "    }\n",
       "</style>\n",
       "<table border=\"1\" class=\"dataframe\">\n",
       "  <thead>\n",
       "    <tr style=\"text-align: right;\">\n",
       "      <th></th>\n",
       "      <th>characteristic</th>\n",
       "      <th>direction</th>\n",
       "      <th>excntry</th>\n",
       "      <th>eom</th>\n",
       "      <th>signal</th>\n",
       "      <th>n_stocks</th>\n",
       "      <th>n_stocks_min</th>\n",
       "      <th>ret_ew</th>\n",
       "      <th>ret_vw</th>\n",
       "      <th>ret_vw_cap</th>\n",
       "    </tr>\n",
       "  </thead>\n",
       "  <tbody>\n",
       "    <tr>\n",
       "      <th>0</th>\n",
       "      <td>age</td>\n",
       "      <td>-1</td>\n",
       "      <td>USA</td>\n",
       "      <td>1926-03-31</td>\n",
       "      <td>-1.0</td>\n",
       "      <td>502</td>\n",
       "      <td>8</td>\n",
       "      <td>-0.066167</td>\n",
       "      <td>-0.098837</td>\n",
       "      <td>-0.086738</td>\n",
       "    </tr>\n",
       "    <tr>\n",
       "      <th>1</th>\n",
       "      <td>age</td>\n",
       "      <td>-1</td>\n",
       "      <td>USA</td>\n",
       "      <td>1926-04-30</td>\n",
       "      <td>-1.0</td>\n",
       "      <td>505</td>\n",
       "      <td>12</td>\n",
       "      <td>0.010546</td>\n",
       "      <td>-0.006303</td>\n",
       "      <td>-0.000572</td>\n",
       "    </tr>\n",
       "    <tr>\n",
       "      <th>2</th>\n",
       "      <td>age</td>\n",
       "      <td>-1</td>\n",
       "      <td>USA</td>\n",
       "      <td>1926-05-31</td>\n",
       "      <td>-2.0</td>\n",
       "      <td>510</td>\n",
       "      <td>17</td>\n",
       "      <td>-0.020292</td>\n",
       "      <td>-0.000190</td>\n",
       "      <td>-0.006332</td>\n",
       "    </tr>\n",
       "    <tr>\n",
       "      <th>3</th>\n",
       "      <td>age</td>\n",
       "      <td>-1</td>\n",
       "      <td>USA</td>\n",
       "      <td>1926-06-30</td>\n",
       "      <td>-2.0</td>\n",
       "      <td>512</td>\n",
       "      <td>21</td>\n",
       "      <td>-0.008927</td>\n",
       "      <td>-0.008323</td>\n",
       "      <td>-0.003012</td>\n",
       "    </tr>\n",
       "    <tr>\n",
       "      <th>4</th>\n",
       "      <td>age</td>\n",
       "      <td>-1</td>\n",
       "      <td>USA</td>\n",
       "      <td>1926-07-31</td>\n",
       "      <td>-2.0</td>\n",
       "      <td>503</td>\n",
       "      <td>23</td>\n",
       "      <td>0.017724</td>\n",
       "      <td>-0.004220</td>\n",
       "      <td>0.003211</td>\n",
       "    </tr>\n",
       "  </tbody>\n",
       "</table>\n",
       "</div>"
      ],
      "text/plain": [
       "  characteristic  direction excntry        eom  signal  n_stocks  \\\n",
       "0            age         -1     USA 1926-03-31    -1.0       502   \n",
       "1            age         -1     USA 1926-04-30    -1.0       505   \n",
       "2            age         -1     USA 1926-05-31    -2.0       510   \n",
       "3            age         -1     USA 1926-06-30    -2.0       512   \n",
       "4            age         -1     USA 1926-07-31    -2.0       503   \n",
       "\n",
       "   n_stocks_min    ret_ew    ret_vw  ret_vw_cap  \n",
       "0             8 -0.066167 -0.098837   -0.086738  \n",
       "1            12  0.010546 -0.006303   -0.000572  \n",
       "2            17 -0.020292 -0.000190   -0.006332  \n",
       "3            21 -0.008927 -0.008323   -0.003012  \n",
       "4            23  0.017724 -0.004220    0.003211  "
      ]
     },
     "execution_count": 17,
     "metadata": {},
     "output_type": "execute_result"
    }
   ],
   "source": [
    "us_lms = pd.read_csv(r\"C:\\EDHEC\\M2\\Cours\\Master thesis\\Data\\Git_Jessen\\Country Factors\\USA.csv\")\n",
    "#Convert eom to datetime\n",
    "us_lms[\"eom\"] = pd.to_datetime(us_lms[\"eom\"], format=\"%Y-%m-%d\")\n",
    "#Display\n",
    "us_lms.head()"
   ]
  },
  {
   "cell_type": "markdown",
   "metadata": {},
   "source": [
    "### Correlation among groups & cluster\n",
    "We will compare with the group (6) and the clusters (13)\n",
    "- Look for the group of the characterisitics in *desc_factor* and *cluster*\n",
    "- Compute the average of return for the group"
   ]
  },
  {
   "cell_type": "code",
   "execution_count": 20,
   "metadata": {},
   "outputs": [],
   "source": [
    "\"\"\"\n",
    "The groups are the ones defined in \n",
    "Hou, Xue, and Zhand (2020) paper\n",
    "\"\"\"\n",
    "\n",
    "i=0 #For creation of the df\n",
    "\n",
    "#loop on charac in group\n",
    "group_list =  desc_factor.group.unique()\n",
    "for gr in group_list:\n",
    "    charac_list = desc_factor[desc_factor.group == gr].abr_jkp.unique()\n",
    "    #Only keep ew in a new dataframe\n",
    "    temp_df = us_lms[us_lms[\"characteristic\"].isin(charac_list)].groupby([\"eom\"]).mean()[[\"ret_ew\"]]\n",
    "    temp_df.columns = [str(gr)]\n",
    "    #Check for df creation\n",
    "    if i==0:\n",
    "        i+=1\n",
    "        group_df = temp_df\n",
    "    else: #merge\n",
    "        group_df = group_df.join(temp_df)"
   ]
  },
  {
   "cell_type": "code",
   "execution_count": 21,
   "metadata": {},
   "outputs": [
    {
     "name": "stderr",
     "output_type": "stream",
     "text": [
      "<ipython-input-21-bb822c8b7226>:4: DeprecationWarning: `np.bool` is a deprecated alias for the builtin `bool`. To silence this warning, use `bool` by itself. Doing this will not modify any behavior and is safe. If you specifically wanted the numpy scalar type, use `np.bool_` here.\n",
      "Deprecated in NumPy 1.20; for more details and guidance: https://numpy.org/devdocs/release/1.20.0-notes.html#deprecations\n",
      "  mask = np.triu(np.ones_like(group_df.corr(), dtype=np.bool))\n"
     ]
    },
    {
     "data": {
      "image/png": "[encoded data removed]",
      "text/plain": [
       "<Figure size 864x432 with 2 Axes>"
      ]
     },
     "metadata": {
      "needs_background": "light"
     },
     "output_type": "display_data"
    }
   ],
   "source": [
    "#PLot correlation heatmap\n",
    "plt.figure(figsize=(12, 6))\n",
    "# define the mask to set the values in the upper triangle to True\n",
    "mask = np.triu(np.ones_like(group_df.corr(), dtype=np.bool))\n",
    "heatmap = sns.heatmap(group_df.corr(), mask=mask, vmin=-1, vmax=1, annot=True, cmap='BrBG')\n",
    "heatmap.set_title('Group Charac - EW', fontdict={'fontsize':18}, pad=16);"
   ]
  },
  {
   "cell_type": "code",
   "execution_count": 22,
   "metadata": {},
   "outputs": [],
   "source": [
    "\"\"\"\n",
    "The groups are the ones defined in \n",
    "Jessen, Kelly and Pedersen's paper\n",
    "\"\"\"\n",
    "i=0 #For creation of the df\n",
    "\n",
    "#loop on charac in group\n",
    "cluster_list =  cluster[\"cluster\"].unique()\n",
    "for gr in cluster_list:\n",
    "    charac_list = cluster[cluster[\"cluster\"] == gr].characteristic.unique()\n",
    "    #Only keep ew in a new dataframe\n",
    "    temp_df = us_lms[us_lms[\"characteristic\"].isin(charac_list)].groupby([\"eom\"]).mean()[[\"ret_ew\"]]\n",
    "    temp_df.columns = [str(gr)]\n",
    "    #Check for df creation\n",
    "    if i==0:\n",
    "        i+=1\n",
    "        clus_df = temp_df\n",
    "    else: #merge\n",
    "        clus_df = clus_df.join(temp_df)"
   ]
  },
  {
   "cell_type": "code",
   "execution_count": 23,
   "metadata": {},
   "outputs": [
    {
     "name": "stderr",
     "output_type": "stream",
     "text": [
      "<ipython-input-23-b7a8b7a90db2>:4: DeprecationWarning: `np.bool` is a deprecated alias for the builtin `bool`. To silence this warning, use `bool` by itself. Doing this will not modify any behavior and is safe. If you specifically wanted the numpy scalar type, use `np.bool_` here.\n",
      "Deprecated in NumPy 1.20; for more details and guidance: https://numpy.org/devdocs/release/1.20.0-notes.html#deprecations\n",
      "  mask = np.triu(np.ones_like(clus_df.corr(), dtype=np.bool))\n"
     ]
    },
    {
     "data": {
      "image/png": "[encoded data removed]",
      "text/plain": [
       "<Figure size 864x432 with 2 Axes>"
      ]
     },
     "metadata": {
      "needs_background": "light"
     },
     "output_type": "display_data"
    }
   ],
   "source": [
    "#PLot correlation heatmap\n",
    "plt.figure(figsize=(12, 6))\n",
    "# define the mask to set the values in the upper triangle to True\n",
    "mask = np.triu(np.ones_like(clus_df.corr(), dtype=np.bool))\n",
    "heatmap = sns.heatmap(clus_df.corr(), mask=mask, vmin=-1, vmax=1, annot=True, cmap='BrBG')\n",
    "heatmap.set_title('Cluster Charac - EW', fontdict={'fontsize':18}, pad=16);"
   ]
  }
 ],
 "metadata": {
  "kernelspec": {
   "display_name": "Python 3",
   "language": "python",
   "name": "python3"
  },
  "language_info": {
   "codemirror_mode": {
    "name": "ipython",
    "version": 3
   },
   "file_extension": ".py",
   "mimetype": "text/x-python",
   "name": "python",
   "nbconvert_exporter": "python",
   "pygments_lexer": "ipython3",
   "version": "3.8.5"
  }
 },
 "nbformat": 4,
 "nbformat_minor": 4
}
